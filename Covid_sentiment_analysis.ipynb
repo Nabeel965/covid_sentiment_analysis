{
  "nbformat": 4,
  "nbformat_minor": 0,
  "metadata": {
    "kernelspec": {
      "display_name": "conda_pytorch_p36",
      "language": "python",
      "name": "conda_pytorch_p36"
    },
    "language_info": {
      "codemirror_mode": {
        "name": "ipython",
        "version": 3
      },
      "file_extension": ".py",
      "mimetype": "text/x-python",
      "name": "python",
      "nbconvert_exporter": "python",
      "pygments_lexer": "ipython3",
      "version": "3.6.10"
    },
    "colab": {
      "name": "Covid sentiment analysis.ipynb",
      "provenance": []
    }
  },
  "cells": [
    {
      "cell_type": "code",
      "metadata": {
        "id": "lFlxwfadDVAs"
      },
      "source": [
        "import s3fs\n",
        "fs = s3fs.S3FileSystem()\n",
        "\n",
        "files=fs.ls('s3://cleanmsds18015/clean/')"
      ],
      "execution_count": null,
      "outputs": []
    },
    {
      "cell_type": "code",
      "metadata": {
        "id": "hnevJQlqDVAz",
        "outputId": "bc750bce-f71d-4b62-db8d-1740c15fb1dc"
      },
      "source": [
        "import nltk\n",
        "nltk.download('stopwords')"
      ],
      "execution_count": null,
      "outputs": [
        {
          "output_type": "stream",
          "text": [
            "[nltk_data] Downloading package stopwords to\n",
            "[nltk_data]     /home/ec2-user/nltk_data...\n",
            "[nltk_data]   Unzipping corpora/stopwords.zip.\n"
          ],
          "name": "stderr"
        },
        {
          "output_type": "execute_result",
          "data": {
            "text/plain": [
              "True"
            ]
          },
          "metadata": {
            "tags": []
          },
          "execution_count": 2
        }
      ]
    },
    {
      "cell_type": "code",
      "metadata": {
        "id": "hIM7HkEkDVA6"
      },
      "source": [
        "import pandas as pd\n",
        "import boto3\n",
        "import numpy as np\n",
        "from nltk.corpus import stopwords\n",
        "from sklearn.feature_extraction.text import CountVectorizer, TfidfTransformer,TfidfVectorizer\n",
        "from sklearn.model_selection import train_test_split\n",
        "from sklearn.linear_model import SGDClassifier"
      ],
      "execution_count": null,
      "outputs": []
    },
    {
      "cell_type": "code",
      "metadata": {
        "id": "jkYuYLv1DVBB"
      },
      "source": [
        "df_list=[]\n",
        "for file in files:\n",
        "    #print(file)\n",
        "    df_list.append(pd.read_csv('s3://'+file))"
      ],
      "execution_count": null,
      "outputs": []
    },
    {
      "cell_type": "code",
      "metadata": {
        "id": "K55xvtqLDVBF"
      },
      "source": [
        "df = pd.concat(df_list)"
      ],
      "execution_count": null,
      "outputs": []
    },
    {
      "cell_type": "code",
      "metadata": {
        "id": "QEyM7IlrDVBF",
        "outputId": "14a6723f-8348-4623-a2a5-d47a9cf8ec0c"
      },
      "source": [
        "df.shape"
      ],
      "execution_count": null,
      "outputs": [
        {
          "output_type": "execute_result",
          "data": {
            "text/plain": [
              "(704867, 8)"
            ]
          },
          "metadata": {
            "tags": []
          },
          "execution_count": 6
        }
      ]
    },
    {
      "cell_type": "code",
      "metadata": {
        "id": "TrGYbjcaDVBG"
      },
      "source": [
        "Xtrain_df,Xtest_df,ytrain_df,ytest_df=train_test_split(df['clean_text'],df['polarity'],\n",
        "                                                 test_size=0.3)\n",
        "Xtrain=Xtrain_df.values\n",
        "Xtest=Xtest_df.values\n",
        "ytrain=ytrain_df.values\n",
        "ytest=ytest_df.values"
      ],
      "execution_count": null,
      "outputs": []
    },
    {
      "cell_type": "code",
      "metadata": {
        "id": "YggEEfO8DVBH"
      },
      "source": [
        "unigram_vectorizer = CountVectorizer(ngram_range=(1, 1))\n",
        "unigram_vectorizer.fit(Xtrain)\n",
        "X_train_unigram = unigram_vectorizer.transform(Xtrain)\n",
        "unigram_tf_idf_transformer = TfidfTransformer()\n",
        "unigram_tf_idf_transformer.fit(X_train_unigram)\n",
        "X_train_unigram_tf_idf = unigram_tf_idf_transformer.transform(X_train_unigram)\n",
        "\n",
        "\n",
        "X_test_unigram = unigram_vectorizer.transform(Xtest)\n",
        "unigram_tf_idf_transformer.fit(X_test_unigram)\n",
        "X_test_unigram_tf_idf = unigram_tf_idf_transformer.transform(X_test_unigram)"
      ],
      "execution_count": null,
      "outputs": []
    },
    {
      "cell_type": "code",
      "metadata": {
        "id": "A95Z4lq_DVBI"
      },
      "source": [
        "ytrain=0.5+ytrain/2\n",
        "ytrain=np.round(ytrain)\n",
        "ytrain=ytrain.astype('int')\n",
        "\n",
        "ytest=0.5+ytest/2\n",
        "ytest=np.round(ytest)\n",
        "ytest=ytest.astype('int')"
      ],
      "execution_count": null,
      "outputs": []
    },
    {
      "cell_type": "code",
      "metadata": {
        "id": "l1kDxlU7DVBM",
        "outputId": "2a0b9f14-6482-4ffd-be36-a0cf7cb53705"
      },
      "source": [
        "clf = SGDClassifier()\n",
        "clf.fit(X_train_unigram_tf_idf, ytrain)"
      ],
      "execution_count": null,
      "outputs": [
        {
          "output_type": "execute_result",
          "data": {
            "text/plain": [
              "SGDClassifier(alpha=0.0001, average=False, class_weight=None,\n",
              "              early_stopping=False, epsilon=0.1, eta0=0.0, fit_intercept=True,\n",
              "              l1_ratio=0.15, learning_rate='optimal', loss='hinge',\n",
              "              max_iter=1000, n_iter_no_change=5, n_jobs=None, penalty='l2',\n",
              "              power_t=0.5, random_state=None, shuffle=True, tol=0.001,\n",
              "              validation_fraction=0.1, verbose=0, warm_start=False)"
            ]
          },
          "metadata": {
            "tags": []
          },
          "execution_count": 48
        }
      ]
    },
    {
      "cell_type": "code",
      "metadata": {
        "id": "lY36n_xIDVBN",
        "outputId": "305119fa-1f2a-4614-951f-2e836d48dbcc"
      },
      "source": [
        "train_pred=clf.score(X_train_unigram_tf_idf, ytrain)\n",
        "test_pred=clf.score(X_test_unigram_tf_idf, ytest)\n",
        "print('Training accuracy:',100*train_pred)\n",
        "print('Test accuracy:',100*test_pred)"
      ],
      "execution_count": null,
      "outputs": [
        {
          "output_type": "stream",
          "text": [
            "Training accuracy: 86.38545133216864\n",
            "Test accuracy: 86.55733208487617\n"
          ],
          "name": "stdout"
        }
      ]
    },
    {
      "cell_type": "code",
      "metadata": {
        "id": "6qhaHsZIDVBS"
      },
      "source": [
        "test_pred=clf.predict(X_test_unigram_tf_idf)"
      ],
      "execution_count": null,
      "outputs": []
    },
    {
      "cell_type": "code",
      "metadata": {
        "id": "hKufZZx1DVBT"
      },
      "source": [
        "neg=Xtest_df[test_pred==0]\n",
        "pos=Xtest_df[test_pred==1]\n",
        "neg = neg.str.lower()\n",
        "pos = pos.str.lower()\n",
        "neg= neg.str.replace('.','')\n",
        "neg= neg.str.replace('#','')\n",
        "pos= pos.str.replace('.','')\n",
        "pos= pos.str.replace('#','')\n",
        "neg_count=neg.str.split(expand=True).stack().value_counts()\n",
        "pos_count=pos.str.split(expand=True).stack().value_counts()\n",
        "tempkeys=[]\n",
        "for key in neg_count.keys():\n",
        "    if key in stopwords.words('english'):\n",
        "        tempkeys.append(key)\n",
        "    if key in pos_count.keys():\n",
        "        if pos_count[key]>1000:\n",
        "            tempkeys.append(key)\n",
        "neg_count_new=neg_count.drop(labels=tempkeys)\n",
        "tempkeys=[]\n",
        "for key in pos_count.keys():\n",
        "    if key in stopwords.words('english'):\n",
        "        tempkeys.append(key)\n",
        "    if key in neg_count.keys():\n",
        "        if neg_count[key]>1000:\n",
        "            tempkeys.append(key)\n",
        "pos_count_new=pos_count.drop(labels=tempkeys)\n",
        "pos_count_new=pd.DataFrame({'word':pos_count_new.index, 'frequency':pos_count_new.values})\n",
        "neg_count_new=pd.DataFrame({'word':neg_count_new.index, 'frequency':neg_count_new.values})\n",
        "\n",
        "file_name =\"positive_words_pred.csv\" \n",
        "pos_count_new.to_csv(file_name)\n",
        "s3 = boto3.resource('s3')\n",
        "s3.meta.client.upload_file(file_name, 'cleanmsds18015', file_name)\n",
        "\n",
        "file_name =\"negative_words_pred.csv\" \n",
        "neg_count_new.to_csv(file_name)\n",
        "s3 = boto3.resource('s3')\n",
        "s3.meta.client.upload_file(file_name, 'cleanmsds18015', file_name)"
      ],
      "execution_count": null,
      "outputs": []
    },
    {
      "cell_type": "code",
      "metadata": {
        "id": "Ib4mkNgsDVBU",
        "outputId": "230b4202-7bfb-4468-ca65-a9edb57506ea"
      },
      "source": [
        "'''\n",
        "file_name =\"cleancombined.csv\" \n",
        "df.to_csv(file_name)\n",
        "s3 = boto3.resource('s3')\n",
        "s3.meta.client.upload_file(file_name, 'cleanmsds18015', file_name)\n",
        "'''"
      ],
      "execution_count": null,
      "outputs": [
        {
          "output_type": "execute_result",
          "data": {
            "text/plain": [
              "'\\nfile_name =\"cleancombined.csv\" \\ndf.to_csv(file_name)\\ns3 = boto3.resource(\\'s3\\')\\ns3.meta.client.upload_file(file_name, \\'cleanmsds18015\\', file_name)\\n'"
            ]
          },
          "metadata": {
            "tags": []
          },
          "execution_count": 7
        }
      ]
    },
    {
      "cell_type": "code",
      "metadata": {
        "id": "8M_jviUHDVBV"
      },
      "source": [
        "neg=df[np.round(df['polarity'])==-1.0]\n",
        "pos=df[np.round(df['polarity'])==1.0]\n",
        "neu=df[np.round(df['polarity']).astype('int')==0]"
      ],
      "execution_count": null,
      "outputs": []
    },
    {
      "cell_type": "code",
      "metadata": {
        "id": "54ki9WrGDVBV",
        "outputId": "0df2afb5-e19c-49a8-8fdf-288ef9c9c6cd"
      },
      "source": [
        "neg['clean_text'] = neg['clean_text'] .str.lower()\n",
        "pos['clean_text'] = pos['clean_text'] .str.lower()\n",
        "neu['clean_text'] = neu['clean_text'] .str.lower()\n",
        "neg['clean_text'] = neg['clean_text'] .str.replace('.','')\n",
        "neg['clean_text'] = neg['clean_text'] .str.replace('#','')\n",
        "pos['clean_text'] = pos['clean_text'] .str.replace('.','')\n",
        "pos['clean_text'] = pos['clean_text'] .str.replace('#','')"
      ],
      "execution_count": null,
      "outputs": [
        {
          "output_type": "stream",
          "text": [
            "/home/ec2-user/anaconda3/envs/pytorch_p36/lib/python3.6/site-packages/ipykernel/__main__.py:1: SettingWithCopyWarning: \n",
            "A value is trying to be set on a copy of a slice from a DataFrame.\n",
            "Try using .loc[row_indexer,col_indexer] = value instead\n",
            "\n",
            "See the caveats in the documentation: http://pandas.pydata.org/pandas-docs/stable/indexing.html#indexing-view-versus-copy\n",
            "  if __name__ == '__main__':\n",
            "/home/ec2-user/anaconda3/envs/pytorch_p36/lib/python3.6/site-packages/ipykernel/__main__.py:2: SettingWithCopyWarning: \n",
            "A value is trying to be set on a copy of a slice from a DataFrame.\n",
            "Try using .loc[row_indexer,col_indexer] = value instead\n",
            "\n",
            "See the caveats in the documentation: http://pandas.pydata.org/pandas-docs/stable/indexing.html#indexing-view-versus-copy\n",
            "  from ipykernel import kernelapp as app\n",
            "/home/ec2-user/anaconda3/envs/pytorch_p36/lib/python3.6/site-packages/ipykernel/__main__.py:3: SettingWithCopyWarning: \n",
            "A value is trying to be set on a copy of a slice from a DataFrame.\n",
            "Try using .loc[row_indexer,col_indexer] = value instead\n",
            "\n",
            "See the caveats in the documentation: http://pandas.pydata.org/pandas-docs/stable/indexing.html#indexing-view-versus-copy\n",
            "  app.launch_new_instance()\n",
            "/home/ec2-user/anaconda3/envs/pytorch_p36/lib/python3.6/site-packages/ipykernel/__main__.py:4: SettingWithCopyWarning: \n",
            "A value is trying to be set on a copy of a slice from a DataFrame.\n",
            "Try using .loc[row_indexer,col_indexer] = value instead\n",
            "\n",
            "See the caveats in the documentation: http://pandas.pydata.org/pandas-docs/stable/indexing.html#indexing-view-versus-copy\n",
            "/home/ec2-user/anaconda3/envs/pytorch_p36/lib/python3.6/site-packages/ipykernel/__main__.py:5: SettingWithCopyWarning: \n",
            "A value is trying to be set on a copy of a slice from a DataFrame.\n",
            "Try using .loc[row_indexer,col_indexer] = value instead\n",
            "\n",
            "See the caveats in the documentation: http://pandas.pydata.org/pandas-docs/stable/indexing.html#indexing-view-versus-copy\n",
            "/home/ec2-user/anaconda3/envs/pytorch_p36/lib/python3.6/site-packages/ipykernel/__main__.py:6: SettingWithCopyWarning: \n",
            "A value is trying to be set on a copy of a slice from a DataFrame.\n",
            "Try using .loc[row_indexer,col_indexer] = value instead\n",
            "\n",
            "See the caveats in the documentation: http://pandas.pydata.org/pandas-docs/stable/indexing.html#indexing-view-versus-copy\n",
            "/home/ec2-user/anaconda3/envs/pytorch_p36/lib/python3.6/site-packages/ipykernel/__main__.py:7: SettingWithCopyWarning: \n",
            "A value is trying to be set on a copy of a slice from a DataFrame.\n",
            "Try using .loc[row_indexer,col_indexer] = value instead\n",
            "\n",
            "See the caveats in the documentation: http://pandas.pydata.org/pandas-docs/stable/indexing.html#indexing-view-versus-copy\n"
          ],
          "name": "stderr"
        }
      ]
    },
    {
      "cell_type": "code",
      "metadata": {
        "id": "gw2A4wBrDVBX"
      },
      "source": [
        "neg_count=neg.clean_text.str.split(expand=True).stack().value_counts()\n",
        "pos_count=pos.clean_text.str.split(expand=True).stack().value_counts()\n",
        "neu_count=neu.clean_text.str.split(expand=True).stack().value_counts()"
      ],
      "execution_count": null,
      "outputs": []
    },
    {
      "cell_type": "code",
      "metadata": {
        "id": "tASEsYXcDVBX"
      },
      "source": [
        "tempkeys=[]\n",
        "for key in neg_count.keys():\n",
        "    if key in stopwords.words('english'):\n",
        "        tempkeys.append(key)\n",
        "    if key in pos_count.keys():\n",
        "        if pos_count[key]>1000:\n",
        "            tempkeys.append(key)\n",
        "neg_count_new=neg_count.drop(labels=tempkeys)"
      ],
      "execution_count": null,
      "outputs": []
    },
    {
      "cell_type": "code",
      "metadata": {
        "id": "y6JEZJ5GDVBX"
      },
      "source": [
        "tempkeys=[]\n",
        "for key in pos_count.keys():\n",
        "    if key in stopwords.words('english'):\n",
        "        tempkeys.append(key)\n",
        "    if key in neg_count.keys():\n",
        "        if neg_count[key]>1000:\n",
        "            tempkeys.append(key)\n",
        "pos_count_new=pos_count.drop(labels=tempkeys)"
      ],
      "execution_count": null,
      "outputs": []
    },
    {
      "cell_type": "code",
      "metadata": {
        "id": "7Hu-T0GnDVBY"
      },
      "source": [
        "tempkeys=[]\n",
        "for key in neu_count.keys():\n",
        "    if key in stopwords.words('english'):\n",
        "        tempkeys.append(key)\n",
        "neu_count_new=neu_count.drop(labels=tempkeys)"
      ],
      "execution_count": null,
      "outputs": []
    },
    {
      "cell_type": "code",
      "metadata": {
        "id": "KuMcH4mkDVBY"
      },
      "source": [
        "neu_count_new=pd.DataFrame({'word':neu_count_new.index, 'frequency':neu_count_new.values})\n",
        "pos_count_new=pd.DataFrame({'word':pos_count_new.index, 'frequency':pos_count_new.values})\n",
        "neg_count_new=pd.DataFrame({'word':neg_count_new.index, 'frequency':neg_count_new.values})"
      ],
      "execution_count": null,
      "outputs": []
    },
    {
      "cell_type": "code",
      "metadata": {
        "id": "qq4PVsJBDVBY",
        "outputId": "9a3efd60-f74a-4119-dbeb-f6711378d682"
      },
      "source": [
        "neu_count_new.head(2)"
      ],
      "execution_count": null,
      "outputs": [
        {
          "output_type": "execute_result",
          "data": {
            "text/html": [
              "<div>\n",
              "<style scoped>\n",
              "    .dataframe tbody tr th:only-of-type {\n",
              "        vertical-align: middle;\n",
              "    }\n",
              "\n",
              "    .dataframe tbody tr th {\n",
              "        vertical-align: top;\n",
              "    }\n",
              "\n",
              "    .dataframe thead th {\n",
              "        text-align: right;\n",
              "    }\n",
              "</style>\n",
              "<table border=\"1\" class=\"dataframe\">\n",
              "  <thead>\n",
              "    <tr style=\"text-align: right;\">\n",
              "      <th></th>\n",
              "      <th>word</th>\n",
              "      <th>frequency</th>\n",
              "    </tr>\n",
              "  </thead>\n",
              "  <tbody>\n",
              "    <tr>\n",
              "      <th>0</th>\n",
              "      <td>coronavirus</td>\n",
              "      <td>343586</td>\n",
              "    </tr>\n",
              "    <tr>\n",
              "      <th>1</th>\n",
              "      <td>#coronavirus</td>\n",
              "      <td>112467</td>\n",
              "    </tr>\n",
              "  </tbody>\n",
              "</table>\n",
              "</div>"
            ],
            "text/plain": [
              "           word  frequency\n",
              "0   coronavirus     343586\n",
              "1  #coronavirus     112467"
            ]
          },
          "metadata": {
            "tags": []
          },
          "execution_count": 54
        }
      ]
    },
    {
      "cell_type": "code",
      "metadata": {
        "id": "zX2y5RKoDVBa"
      },
      "source": [
        "file_name =\"neutral_words.csv\" \n",
        "neu_count_new.to_csv(file_name)\n",
        "s3 = boto3.resource('s3')\n",
        "s3.meta.client.upload_file(file_name, 'cleanmsds18015', file_name)\n",
        "\n",
        "file_name =\"positive_words.csv\" \n",
        "pos_count_new.to_csv(file_name)\n",
        "s3 = boto3.resource('s3')\n",
        "s3.meta.client.upload_file(file_name, 'cleanmsds18015', file_name)\n",
        "\n",
        "file_name =\"negative_words.csv\" \n",
        "neg_count_new.to_csv(file_name)\n",
        "s3 = boto3.resource('s3')\n",
        "s3.meta.client.upload_file(file_name, 'cleanmsds18015', file_name)"
      ],
      "execution_count": null,
      "outputs": []
    },
    {
      "cell_type": "code",
      "metadata": {
        "id": "0R1EVmCwDVBa"
      },
      "source": [
        ""
      ],
      "execution_count": null,
      "outputs": []
    },
    {
      "cell_type": "code",
      "metadata": {
        "id": "2mvUZdkpDVBb",
        "outputId": "f2ae8c34-fbce-4828-d59b-2b2e1af6722b"
      },
      "source": [
        "'''\n",
        "from nltk.stem.wordnet import WordNetLemmatizer\n",
        "lmtzr = WordNetLemmatizer()\n",
        "lmtzr.lemmatize('I.')\n",
        "'''"
      ],
      "execution_count": null,
      "outputs": [
        {
          "output_type": "execute_result",
          "data": {
            "text/plain": [
              "\"\\nfrom nltk.stem.wordnet import WordNetLemmatizer\\nlmtzr = WordNetLemmatizer()\\nlmtzr.lemmatize('I.')\\n\""
            ]
          },
          "metadata": {
            "tags": []
          },
          "execution_count": 19
        }
      ]
    },
    {
      "cell_type": "code",
      "metadata": {
        "id": "nnsK4Rq8DVBb",
        "outputId": "cb7d5338-9cb8-4aa4-a9e6-2f30308b2dea"
      },
      "source": [
        "#import nltk\n",
        "#nltk.download('wordnet')"
      ],
      "execution_count": null,
      "outputs": [
        {
          "output_type": "stream",
          "text": [
            "[nltk_data] Downloading package wordnet to /home/ec2-user/nltk_data...\n",
            "[nltk_data]   Unzipping corpora/wordnet.zip.\n"
          ],
          "name": "stdout"
        },
        {
          "output_type": "execute_result",
          "data": {
            "text/plain": [
              "True"
            ]
          },
          "metadata": {
            "tags": []
          },
          "execution_count": 50
        }
      ]
    },
    {
      "cell_type": "code",
      "metadata": {
        "id": "RtspUJk2DVBb"
      },
      "source": [
        ""
      ],
      "execution_count": null,
      "outputs": []
    }
  ]
}